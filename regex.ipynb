{
 "cells": [
  {
   "cell_type": "code",
   "execution_count": null,
   "metadata": {},
   "outputs": [],
   "source": [
    "import re"
   ]
  },
  {
   "cell_type": "code",
   "execution_count": 2,
   "metadata": {},
   "outputs": [
    {
     "name": "stdout",
     "output_type": "stream",
     "text": [
      "['в', 'в', 'в', 'в', 'в', 'в', 'в', 'в', 'в', 'в', 'в', 'в', 'в', 'в', 'в']\n"
     ]
    }
   ],
   "source": [
    "#1)Write a Python program that matches a string that has an 'a' followed by zero or more 'b''s.\n",
    "import re\n",
    "\n",
    "text = '/Users/mirasshokybay/Desktop/lab.5/row.txt'  # Абсолютті жол\n",
    "with open(text, 'r', encoding='utf-8') as file:  # UTF-8 кодировкасын қолдану\n",
    "    string = file.read().strip()\n",
    "\n",
    "pattern = r'вb*'\n",
    "result = re.findall(pattern, string)\n",
    "\n",
    "if result:\n",
    "    print(result)\n",
    "else:\n",
    "    print(\"Not found\")"
   ]
  },
  {
   "cell_type": "code",
   "execution_count": 3,
   "metadata": {},
   "outputs": [
    {
     "name": "stdout",
     "output_type": "stream",
     "text": [
      "not f\n"
     ]
    }
   ],
   "source": [
    "#2)Write a Python program that matches a string that has an 'a' followed by two to three 'b'.\n",
    "text = '/Users/mirasshokybay/Desktop/lab.5/row.txt'\n",
    "with open(text, 'r', encoding='utf-8') as file:  # UTF-8 кодировкасын қолдану\n",
    "    string = file.read().strip()\n",
    "pattern = r'ab[2-3]'\n",
    "result = re.findall(pattern, string)\n",
    "if result:\n",
    "    print(result)\n",
    "else:\n",
    "    print(\"not f\")"
   ]
  },
  {
   "cell_type": "code",
   "execution_count": 12,
   "metadata": {},
   "outputs": [
    {
     "name": "stdout",
     "output_type": "stream",
     "text": [
      "not\n"
     ]
    }
   ],
   "source": [
    "#3)Write a Python program to find sequences of lowercase letters joined with a underscore.\n",
    "text =  '/Users/mirasshokybay/Desktop/lab.5/row.txt'\n",
    "with open(text, 'r', encoding='utf-8') as file:  # UTF-8 кодировкасын қолдану\n",
    "    string = file.read().strip()\n",
    "pattern = \"\\b[a-z]+_[a-z]+\\b\"\n",
    "result= re.findall(pattern, string)\n",
    "if result:\n",
    "    print(result)\n",
    "else:\n",
    "    print(\"not\")"
   ]
  },
  {
   "cell_type": "code",
   "execution_count": 5,
   "metadata": {},
   "outputs": [
    {
     "name": "stdout",
     "output_type": "stream",
     "text": [
      "['Bi', 'Vo', 'Me', 'Na', 'Ca', 'Pr', 'Se', 'Pr', 'Se', 'Cl', 'Bi', 'Wo', 'Bi', 'Wo']\n"
     ]
    }
   ],
   "source": [
    "#4)Write a Python program to find the sequences of one upper case letter followed by lower case letters.\n",
    "text =  '/Users/mirasshokybay/Desktop/lab.5/row.txt'\n",
    "with open(text, 'r', encoding='utf-8') as file: \n",
    "    string = file.read().strip()\n",
    "pattern = \"[A-Z][a-z]\"\n",
    "result = re.findall(pattern, string)\n",
    "if result:\n",
    "    print(result)\n",
    "else:\n",
    "    print(\"not\")"
   ]
  },
  {
   "cell_type": "code",
   "execution_count": 6,
   "metadata": {},
   "outputs": [
    {
     "name": "stdout",
     "output_type": "stream",
     "text": [
      "not\n"
     ]
    }
   ],
   "source": [
    "#5)Write a Python program that matches a string that has an 'a' followed by anything, ending in 'b'.\n",
    "text =  '/Users/mirasshokybay/Desktop/lab.5/row.txt'\n",
    "with open(text, 'r', encoding='utf-8') as file:  \n",
    "    string = file.read().strip()\n",
    "pattern=\"^а.*в$\"\n",
    "result = re.findall(pattern, string)\n",
    "if result:\n",
    "    print(result)\n",
    "else:\n",
    "    print(\"not\")"
   ]
  },
  {
   "cell_type": "code",
   "execution_count": 7,
   "metadata": {},
   "outputs": [
    {
     "name": "stdout",
     "output_type": "stream",
     "text": [
      "Hello::world::How:are:you:doing:today?\n"
     ]
    }
   ],
   "source": [
    "#6)Write a Python program to replace all occurrences of space, comma, or dot with a colon.\n",
    "text =  \"Hello, world. How are you doing today?\"\n",
    "pattern = r'[,. ]'\n",
    "replese= \":\"\n",
    "result=re.sub(pattern, replese, text)\n",
    "print(result)"
   ]
  },
  {
   "cell_type": "code",
   "execution_count": 8,
   "metadata": {},
   "outputs": [
    {
     "name": "stdout",
     "output_type": "stream",
     "text": [
      "Snake case: miras_x_X\n",
      "Camel case: mirasXX\n"
     ]
    }
   ],
   "source": [
    "#7)Write a python program to convert snake case string to camel case string.\n",
    "def snake_to_camel(snake_str):\n",
    "    parts = snake_str.split('_')\n",
    "    camel_case = parts[0] + ''.join(word.capitalize() for word in parts[1:])\n",
    "    return camel_case\n",
    "snake_string =str(input())\n",
    "camel_string = snake_to_camel(snake_string)\n",
    "print(\"Snake case:\", snake_string)\n",
    "print(\"Camel case:\", camel_string)"
   ]
  },
  {
   "cell_type": "code",
   "execution_count": 9,
   "metadata": {},
   "outputs": [
    {
     "name": "stdout",
     "output_type": "stream",
     "text": [
      "Original string: MirasHasMiras\n",
      "Split parts: ['Miras', 'Has', 'Miras']\n"
     ]
    }
   ],
   "source": [
    "#8)Write a Python program to split a string at uppercase letters.\n",
    "def split_at_uppercase(s):\n",
    "    parts = re.split(r'(?=[A-Z])', s)\n",
    "    parts = [part for part in parts if part]\n",
    "    return parts\n",
    "input_string =str(input())\n",
    "result = split_at_uppercase(input_string)\n",
    "print(\"Original string:\", input_string)\n",
    "print(\"Split parts:\", result)"
   ]
  },
  {
   "cell_type": "code",
   "execution_count": 10,
   "metadata": {},
   "outputs": [
    {
     "name": "stdout",
     "output_type": "stream",
     "text": [
      "Original: MMMthe_NO\n",
      "Modified: M M Mthe_ N O\n"
     ]
    }
   ],
   "source": [
    "#9)Write a Python program to insert spaces between words starting with capital letters.\n",
    "def insert_spaces(text):\n",
    "    result = re.sub(r'(?<!^)(?=[A-Z])', ' ', text)\n",
    "    return result\n",
    "input_text = str(input())\n",
    "output_text = insert_spaces(input_text)\n",
    "print(\"Original:\", input_text)\n",
    "print(\"Modified:\", output_text)"
   ]
  },
  {
   "cell_type": "code",
   "execution_count": 11,
   "metadata": {},
   "outputs": [
    {
     "name": "stdout",
     "output_type": "stream",
     "text": [
      "Camel case: MirasHasMoreee\n",
      "Snake case: miras_has_moreee\n"
     ]
    }
   ],
   "source": [
    "#10)Write a Python program to convert a given camel case string to snake case.\n",
    "def camel_to_snake(camel_str):\n",
    "    snake_str = re.sub(r'(?<=[a-z0-9])([A-Z])', r'_\\1', camel_str)\n",
    "    return snake_str.lower()\n",
    "camel_string = str(input())\n",
    "snake_string = camel_to_snake(camel_string)\n",
    "print(\"Camel case:\", camel_string)\n",
    "print(\"Snake case:\", snake_string)"
   ]
  }
 ],
 "metadata": {
  "kernelspec": {
   "display_name": "Python 3",
   "language": "python",
   "name": "python3"
  },
  "language_info": {
   "codemirror_mode": {
    "name": "ipython",
    "version": 3
   },
   "file_extension": ".py",
   "mimetype": "text/x-python",
   "name": "python",
   "nbconvert_exporter": "python",
   "pygments_lexer": "ipython3",
   "version": "3.13.1"
  }
 },
 "nbformat": 4,
 "nbformat_minor": 2
}
